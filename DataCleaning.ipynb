{
 "cells": [
  {
   "cell_type": "code",
   "execution_count": 13,
   "id": "c40cbb73",
   "metadata": {},
   "outputs": [],
   "source": [
    "import numpy as np\n",
    "import pandas as pd\n",
    "from datetime import date\n"
   ]
  },
  {
   "cell_type": "code",
   "execution_count": 14,
   "metadata": {},
   "outputs": [],
   "source": [
    "df = pd.read_excel('/Users/rohan/Data Science Project/GlassdoorSalaries.xls')"
   ]
  },
  {
   "cell_type": "markdown",
   "metadata": {},
   "source": [
    "**1. Handling null values**"
   ]
  },
  {
   "cell_type": "code",
   "execution_count": 15,
   "metadata": {},
   "outputs": [
    {
     "data": {
      "text/plain": [
       "Unnamed: 0           0\n",
       "Job Title            0\n",
       "Salary Estimate      0\n",
       "Company Name         0\n",
       "Location             0\n",
       "Size                 0\n",
       "Founded              0\n",
       "Type of ownership    0\n",
       "Industry             0\n",
       "Sector               0\n",
       "Revenue              0\n",
       "dtype: int64"
      ]
     },
     "execution_count": 15,
     "metadata": {},
     "output_type": "execute_result"
    }
   ],
   "source": [
    "df.isnull().sum() # Most of the companies do not have any data for competitors. We would get rid of this column\n",
    "df.drop(columns='Competitors', inplace=True)\n",
    "\n",
    "# In the scraper, null values have been filled with '-1'. Similarly, the columns which have null values in our data frame\n",
    "# can be handled by replacing them with -1.\n",
    "\n",
    "df.fillna(-1, inplace=True)\n",
    "df.isnull().sum()\n"
   ]
  },
  {
   "cell_type": "markdown",
   "metadata": {},
   "source": [
    "**2. Parsing salary column**"
   ]
  },
  {
   "cell_type": "code",
   "execution_count": 16,
   "metadata": {},
   "outputs": [],
   "source": [
    "# Since we would need salaries of all the positions to perform predictions, companies who do not have any data\n",
    "# for salary need to be removed.\n",
    "\n",
    "df[df[\"Salary Estimate\"]==-1][\"Salary Estimate\"].count() # 216 postings without salary data\n",
    "df = df[df[\"Salary Estimate\"]!= -1]\n",
    "\n",
    "# Parsing salary\n",
    "\n",
    "salary = df[\"Salary Estimate\"].apply(lambda x: x.split('(')[0])\n",
    "minus_kd = salary.apply(lambda x: x.lower().replace('k','').replace('$',''))\n",
    "\n",
    "#Segregate per hour salaries and employer provided salary\n",
    "\n",
    "df[\"Per hour\"] = df[\"Salary Estimate\"].apply(lambda x: 1 if 'per hour' in x.lower() else 0)\n",
    "df[\"Employer Provided\"] = df[\"Salary Estimate\"].apply(lambda x: 1 if 'employer provided salary' in x.lower() else 0)\n",
    "\n",
    "# Remove 'employer provided salary' and 'per hour' from salary\n",
    "fin_sal = minus_kd.apply(lambda x: x.lower().replace('per hour','').replace('employer provided salary:',''))\n",
    "\n",
    "# Calculate minimum, maximum and average salary for each position. Inserting 0 for those position carrying only minimum salary\n",
    "df['min_sal'] = fin_sal.apply(lambda x: int(x.split('-')[0].strip()) if '-' in x else int(x))\n",
    "df['max_sal'] = fin_sal.apply(lambda x: int(x.split('-')[0].strip()) if '-' in x else 0)\n",
    "df['avg_sal'] = (df['min_sal'] + df['max_sal'])/2"
   ]
  },
  {
   "cell_type": "markdown",
   "metadata": {},
   "source": [
    "**3. Separating company name and ratings**"
   ]
  },
  {
   "cell_type": "code",
   "execution_count": 17,
   "metadata": {},
   "outputs": [],
   "source": [
    "df['Ratings'] = df['Company Name'].apply(lambda x: float(x.split('\\n')[1]) if '\\n' in x else -1)\n",
    "df['Company text'] = df.apply(lambda x: x['Company Name'] if x['Ratings']== -1 else x['Company Name'].split('\\n')[0], axis = 1)"
   ]
  },
  {
   "cell_type": "markdown",
   "metadata": {},
   "source": [
    "**4. Creation of new column for remote jobs and separating city and state**"
   ]
  },
  {
   "cell_type": "code",
   "execution_count": 18,
   "metadata": {
    "scrolled": false
   },
   "outputs": [],
   "source": [
    "df[\"Remote\"] = df['Location'].apply(lambda x: 1 if 'remote' in x.lower() else 0)\n",
    "df['City'] =   df['Location'].apply(lambda x: x.split(',')[0] if ',' in x.lower() else 'NA')\n",
    "df['State'] =  df['Location'].apply(lambda x: x.split(', ')[1] if ',' in x.lower() else 'NA')"
   ]
  },
  {
   "cell_type": "markdown",
   "metadata": {},
   "source": [
    "**5. Age calculation of the company**"
   ]
  },
  {
   "cell_type": "code",
   "execution_count": 19,
   "metadata": {},
   "outputs": [],
   "source": [
    "todays_date = date.today()\n",
    "df['Age_Company'] = df['Founded'].apply(lambda x: todays_date.year -x if x>-1 else x) "
   ]
  },
  {
   "cell_type": "markdown",
   "metadata": {},
   "source": [
    "**6. Grouping size column into greater than 1000 and less than 1000**"
   ]
  },
  {
   "cell_type": "code",
   "execution_count": 20,
   "metadata": {},
   "outputs": [],
   "source": [
    "df['Size_greater_1000'] = df['Size'].apply(lambda x: -1 if type(x) == int or (type(x)==str and 'unknown' in x.lower()) else 1 if type(x)== str and '1000' in x.lower() else 0)\n"
   ]
  },
  {
   "cell_type": "markdown",
   "metadata": {},
   "source": [
    "**7. Drop 1st column**"
   ]
  },
  {
   "cell_type": "code",
   "execution_count": 21,
   "metadata": {},
   "outputs": [],
   "source": [
    "df.drop(columns='Unnamed: 0', inplace=True)"
   ]
  },
  {
   "cell_type": "markdown",
   "metadata": {},
   "source": [
    "**8. Converting 'Los Angeles' state to 'CA'**"
   ]
  },
  {
   "cell_type": "code",
   "execution_count": 22,
   "metadata": {},
   "outputs": [],
   "source": [
    "df['State']= df['State'].replace(['Los Angeles'],'CA')"
   ]
  },
  {
   "cell_type": "markdown",
   "metadata": {},
   "source": [
    "**9. Exploring job title column**"
   ]
  },
  {
   "cell_type": "code",
   "execution_count": 23,
   "metadata": {},
   "outputs": [
    {
     "data": {
      "text/plain": [
       "na    555\n",
       "Sr    226\n",
       "Jr      3\n",
       "Name: Seniority, dtype: int64"
      ]
     },
     "execution_count": 23,
     "metadata": {},
     "output_type": "execute_result"
    }
   ],
   "source": [
    "def seniority(title):\n",
    "    if \"jr\" in title.lower() or \"junior\" in title.lower():\n",
    "        return \"Jr\"\n",
    "    elif \"sr\" in title.lower() or \"senior\" in title.lower() or \"lead\" in title.lower() or \"principal\" in title.lower():\n",
    "        return \"Sr\"\n",
    "    else:\n",
    "        return \"na\"\n",
    "\n",
    "df[\"Seniority\"]=df[\"Job Title\"].apply(seniority)\n",
    "df['Seniority'].value_counts()"
   ]
  },
  {
   "cell_type": "markdown",
   "metadata": {},
   "source": [
    "**10. Conversion of cleaned data to csv which would be used later for model building**"
   ]
  },
  {
   "cell_type": "code",
   "execution_count": 26,
   "metadata": {},
   "outputs": [],
   "source": [
    "df.to_csv('Cleaned_data_salary.csv',index=False)"
   ]
  }
 ],
 "metadata": {
  "kernelspec": {
   "display_name": "Python 3",
   "language": "python",
   "name": "python3"
  },
  "language_info": {
   "codemirror_mode": {
    "name": "ipython",
    "version": 3
   },
   "file_extension": ".py",
   "mimetype": "text/x-python",
   "name": "python",
   "nbconvert_exporter": "python",
   "pygments_lexer": "ipython3",
   "version": "3.8.8"
  }
 },
 "nbformat": 4,
 "nbformat_minor": 5
}
